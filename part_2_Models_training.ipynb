{
 "cells": [
  {
   "cell_type": "code",
   "execution_count": 39,
   "metadata": {},
   "outputs": [
    {
     "data": {
      "text/plain": [
       "<Figure size 432x216 with 0 Axes>"
      ]
     },
     "metadata": {},
     "output_type": "display_data"
    }
   ],
   "source": [
    "#Packages related to general operating system & warnings\n",
    "import os \n",
    "import warnings\n",
    "warnings.filterwarnings('ignore')\n",
    "#Packages related to data importing, manipulation, exploratory data #analysis, data understanding\n",
    "import numpy as np\n",
    "import pandas as pd\n",
    "from pandas import Series, DataFrame\n",
    "from termcolor import colored as cl # text customization\n",
    "#Packages related to data visualizaiton\n",
    "import seaborn as sns\n",
    "import matplotlib.pyplot as plt\n",
    "%matplotlib inline\n",
    "#Setting plot sizes and type of plot\n",
    "plt.rc(\"font\", size=14)\n",
    "plt.rcParams['axes.grid'] = True\n",
    "plt.figure(figsize=(6,3))\n",
    "plt.gray()\n",
    "from matplotlib.backends.backend_pdf import PdfPages\n",
    "from sklearn.model_selection import train_test_split, GridSearchCV\n",
    "from sklearn import metrics\n",
    "from sklearn.impute import MissingIndicator, SimpleImputer\n",
    "from sklearn.preprocessing import  PolynomialFeatures, KBinsDiscretizer, FunctionTransformer\n",
    "from sklearn.preprocessing import StandardScaler, MinMaxScaler, MaxAbsScaler\n",
    "from sklearn.preprocessing import LabelEncoder, OneHotEncoder, LabelBinarizer, OrdinalEncoder\n",
    "import statsmodels.tsa as tsa\n",
    "import statsmodels.formula.api as smf\n",
    "from sklearn.linear_model import LogisticRegression, LinearRegression, ElasticNet, Lasso, Ridge\n",
    "from sklearn.neighbors import KNeighborsClassifier, KNeighborsRegressor\n",
    "from sklearn.tree import DecisionTreeClassifier, DecisionTreeRegressor, export_graphviz,export_text\n",
    "from sklearn.ensemble import BaggingClassifier, BaggingRegressor,RandomForestClassifier,RandomForestRegressor\n",
    "from sklearn.ensemble import GradientBoostingClassifier,GradientBoostingRegressor, AdaBoostClassifier, AdaBoostRegressor \n",
    "from sklearn.svm import LinearSVC, LinearSVR, SVC, SVR\n",
    "from xgboost import XGBClassifier\n",
    "from sklearn.metrics import f1_score\n",
    "from sklearn.metrics import accuracy_score\n",
    "from sklearn.metrics import confusion_matrix\n",
    "import pandas_profiling as pdp\n",
    "import pandas as pd\n",
    "import numpy as np\n",
    "import seaborn as sns\n",
    "from sklearn.model_selection import train_test_split, KFold\n",
    "\n",
    "import tensorflow as tf\n",
    "from tensorflow.keras.models import Sequential\n",
    "from tensorflow.keras.layers import Dense, Dropout\n",
    "from tensorflow.keras.callbacks import EarlyStopping"
   ]
  },
  {
   "cell_type": "code",
   "execution_count": 40,
   "metadata": {},
   "outputs": [
    {
     "data": {
      "text/html": [
       "<div>\n",
       "<style scoped>\n",
       "    .dataframe tbody tr th:only-of-type {\n",
       "        vertical-align: middle;\n",
       "    }\n",
       "\n",
       "    .dataframe tbody tr th {\n",
       "        vertical-align: top;\n",
       "    }\n",
       "\n",
       "    .dataframe thead th {\n",
       "        text-align: right;\n",
       "    }\n",
       "</style>\n",
       "<table border=\"1\" class=\"dataframe\">\n",
       "  <thead>\n",
       "    <tr style=\"text-align: right;\">\n",
       "      <th></th>\n",
       "      <th>Time</th>\n",
       "      <th>V1</th>\n",
       "      <th>V2</th>\n",
       "      <th>V3</th>\n",
       "      <th>V4</th>\n",
       "      <th>V5</th>\n",
       "      <th>V6</th>\n",
       "      <th>V7</th>\n",
       "      <th>V8</th>\n",
       "      <th>V9</th>\n",
       "      <th>...</th>\n",
       "      <th>V21</th>\n",
       "      <th>V22</th>\n",
       "      <th>V23</th>\n",
       "      <th>V24</th>\n",
       "      <th>V25</th>\n",
       "      <th>V26</th>\n",
       "      <th>V27</th>\n",
       "      <th>V28</th>\n",
       "      <th>Amount</th>\n",
       "      <th>Class</th>\n",
       "    </tr>\n",
       "  </thead>\n",
       "  <tbody>\n",
       "    <tr>\n",
       "      <th>0</th>\n",
       "      <td>0.0</td>\n",
       "      <td>-1.359807</td>\n",
       "      <td>-0.072781</td>\n",
       "      <td>2.536347</td>\n",
       "      <td>1.378155</td>\n",
       "      <td>-0.338321</td>\n",
       "      <td>0.462388</td>\n",
       "      <td>0.239599</td>\n",
       "      <td>0.098698</td>\n",
       "      <td>0.363787</td>\n",
       "      <td>...</td>\n",
       "      <td>-0.018307</td>\n",
       "      <td>0.277838</td>\n",
       "      <td>-0.110474</td>\n",
       "      <td>0.066928</td>\n",
       "      <td>0.128539</td>\n",
       "      <td>-0.189115</td>\n",
       "      <td>0.133558</td>\n",
       "      <td>-0.021053</td>\n",
       "      <td>149.62</td>\n",
       "      <td>0</td>\n",
       "    </tr>\n",
       "    <tr>\n",
       "      <th>1</th>\n",
       "      <td>0.0</td>\n",
       "      <td>1.191857</td>\n",
       "      <td>0.266151</td>\n",
       "      <td>0.166480</td>\n",
       "      <td>0.448154</td>\n",
       "      <td>0.060018</td>\n",
       "      <td>-0.082361</td>\n",
       "      <td>-0.078803</td>\n",
       "      <td>0.085102</td>\n",
       "      <td>-0.255425</td>\n",
       "      <td>...</td>\n",
       "      <td>-0.225775</td>\n",
       "      <td>-0.638672</td>\n",
       "      <td>0.101288</td>\n",
       "      <td>-0.339846</td>\n",
       "      <td>0.167170</td>\n",
       "      <td>0.125895</td>\n",
       "      <td>-0.008983</td>\n",
       "      <td>0.014724</td>\n",
       "      <td>2.69</td>\n",
       "      <td>0</td>\n",
       "    </tr>\n",
       "    <tr>\n",
       "      <th>2</th>\n",
       "      <td>1.0</td>\n",
       "      <td>-1.358354</td>\n",
       "      <td>-1.340163</td>\n",
       "      <td>1.773209</td>\n",
       "      <td>0.379780</td>\n",
       "      <td>-0.503198</td>\n",
       "      <td>1.800499</td>\n",
       "      <td>0.791461</td>\n",
       "      <td>0.247676</td>\n",
       "      <td>-1.514654</td>\n",
       "      <td>...</td>\n",
       "      <td>0.247998</td>\n",
       "      <td>0.771679</td>\n",
       "      <td>0.909412</td>\n",
       "      <td>-0.689281</td>\n",
       "      <td>-0.327642</td>\n",
       "      <td>-0.139097</td>\n",
       "      <td>-0.055353</td>\n",
       "      <td>-0.059752</td>\n",
       "      <td>378.66</td>\n",
       "      <td>0</td>\n",
       "    </tr>\n",
       "    <tr>\n",
       "      <th>3</th>\n",
       "      <td>1.0</td>\n",
       "      <td>-0.966272</td>\n",
       "      <td>-0.185226</td>\n",
       "      <td>1.792993</td>\n",
       "      <td>-0.863291</td>\n",
       "      <td>-0.010309</td>\n",
       "      <td>1.247203</td>\n",
       "      <td>0.237609</td>\n",
       "      <td>0.377436</td>\n",
       "      <td>-1.387024</td>\n",
       "      <td>...</td>\n",
       "      <td>-0.108300</td>\n",
       "      <td>0.005274</td>\n",
       "      <td>-0.190321</td>\n",
       "      <td>-1.175575</td>\n",
       "      <td>0.647376</td>\n",
       "      <td>-0.221929</td>\n",
       "      <td>0.062723</td>\n",
       "      <td>0.061458</td>\n",
       "      <td>123.50</td>\n",
       "      <td>0</td>\n",
       "    </tr>\n",
       "    <tr>\n",
       "      <th>4</th>\n",
       "      <td>2.0</td>\n",
       "      <td>-1.158233</td>\n",
       "      <td>0.877737</td>\n",
       "      <td>1.548718</td>\n",
       "      <td>0.403034</td>\n",
       "      <td>-0.407193</td>\n",
       "      <td>0.095921</td>\n",
       "      <td>0.592941</td>\n",
       "      <td>-0.270533</td>\n",
       "      <td>0.817739</td>\n",
       "      <td>...</td>\n",
       "      <td>-0.009431</td>\n",
       "      <td>0.798278</td>\n",
       "      <td>-0.137458</td>\n",
       "      <td>0.141267</td>\n",
       "      <td>-0.206010</td>\n",
       "      <td>0.502292</td>\n",
       "      <td>0.219422</td>\n",
       "      <td>0.215153</td>\n",
       "      <td>69.99</td>\n",
       "      <td>0</td>\n",
       "    </tr>\n",
       "  </tbody>\n",
       "</table>\n",
       "<p>5 rows × 31 columns</p>\n",
       "</div>"
      ],
      "text/plain": [
       "   Time        V1        V2        V3        V4        V5        V6        V7  \\\n",
       "0   0.0 -1.359807 -0.072781  2.536347  1.378155 -0.338321  0.462388  0.239599   \n",
       "1   0.0  1.191857  0.266151  0.166480  0.448154  0.060018 -0.082361 -0.078803   \n",
       "2   1.0 -1.358354 -1.340163  1.773209  0.379780 -0.503198  1.800499  0.791461   \n",
       "3   1.0 -0.966272 -0.185226  1.792993 -0.863291 -0.010309  1.247203  0.237609   \n",
       "4   2.0 -1.158233  0.877737  1.548718  0.403034 -0.407193  0.095921  0.592941   \n",
       "\n",
       "         V8        V9  ...       V21       V22       V23       V24       V25  \\\n",
       "0  0.098698  0.363787  ... -0.018307  0.277838 -0.110474  0.066928  0.128539   \n",
       "1  0.085102 -0.255425  ... -0.225775 -0.638672  0.101288 -0.339846  0.167170   \n",
       "2  0.247676 -1.514654  ...  0.247998  0.771679  0.909412 -0.689281 -0.327642   \n",
       "3  0.377436 -1.387024  ... -0.108300  0.005274 -0.190321 -1.175575  0.647376   \n",
       "4 -0.270533  0.817739  ... -0.009431  0.798278 -0.137458  0.141267 -0.206010   \n",
       "\n",
       "        V26       V27       V28  Amount  Class  \n",
       "0 -0.189115  0.133558 -0.021053  149.62      0  \n",
       "1  0.125895 -0.008983  0.014724    2.69      0  \n",
       "2 -0.139097 -0.055353 -0.059752  378.66      0  \n",
       "3 -0.221929  0.062723  0.061458  123.50      0  \n",
       "4  0.502292  0.219422  0.215153   69.99      0  \n",
       "\n",
       "[5 rows x 31 columns]"
      ]
     },
     "execution_count": 40,
     "metadata": {},
     "output_type": "execute_result"
    }
   ],
   "source": [
    "data =pd.read_csv(r\"creditcard.csv\")\n",
    "data.head()"
   ]
  },
  {
   "cell_type": "markdown",
   "metadata": {},
   "source": [
    "#### Resampling stratergy\n",
    "  Dataset is highly imbalanced. Fraudulent transactions are only 0.17% from entire dataset. Direct oversampling or under sampling will not work for the dataset. \n",
    "  Lest do mix of oversampling and under   sampling to cover more data points from none-fraudulent than taking just 492 records out of 284308 samples.\n",
    "- Lets take random 5% from none-fraudulent transactions\n",
    "\n",
    "- Then will oversample fraudulent transactions to match with none-fraudulent"
   ]
  },
  {
   "cell_type": "code",
   "execution_count": 41,
   "metadata": {},
   "outputs": [],
   "source": [
    "# Since dataset is highly unbalanced we can use under sampling or mix of under and over sampling to increase number of samples\n",
    "leg_df = data[data.Class == 0]\n",
    "fraud_df = data[data.Class == 1]\n",
    "\n",
    "no_of_samples = round(leg_df.shape[0] * 0.05)\n",
    "no_of_samples\n",
    "\n",
    "from imblearn.over_sampling import RandomOverSampler\n",
    "from sklearn.utils import resample\n",
    "\n",
    "leg_df_2 = resample(leg_df, n_samples=no_of_samples, random_state=15)\n",
    "# leg_df_2.describe()\n",
    "df_sampled = pd.concat([leg_df_2,fraud_df],axis=0)\n",
    "\n",
    "x_sampled = df_sampled.drop('Class', axis=1)\n",
    "y_sampled = df_sampled.Class\n",
    "\n",
    "ros = RandomOverSampler(random_state=42)\n",
    "\n",
    "x,y = ros.fit_resample(x_sampled,y_sampled)"
   ]
  },
  {
   "cell_type": "code",
   "execution_count": 42,
   "metadata": {},
   "outputs": [],
   "source": [
    "x.drop(['Amount','Time'], axis=1, inplace=True)"
   ]
  },
  {
   "cell_type": "markdown",
   "metadata": {},
   "source": [
    "## Train & Test Split\n",
    "We will examine the data against some models\n",
    "- Logistic Regression¶\n",
    "- DecisionTreeClassifier\n",
    "- XGBClassifier\n",
    "- Gradient Boosting Classifier"
   ]
  },
  {
   "cell_type": "code",
   "execution_count": 43,
   "metadata": {},
   "outputs": [
    {
     "data": {
      "text/plain": [
       "(0    10662\n",
       " 1    10662\n",
       " Name: Class, dtype: int64,\n",
       " 1    3554\n",
       " 0    3554\n",
       " Name: Class, dtype: int64)"
      ]
     },
     "execution_count": 43,
     "metadata": {},
     "output_type": "execute_result"
    }
   ],
   "source": [
    "y.value_counts()\n",
    "x_train,x_test,y_train,y_test = train_test_split(x,y, stratify=y, random_state=12)\n",
    "y_train.value_counts(), y_test.value_counts()"
   ]
  },
  {
   "cell_type": "markdown",
   "metadata": {},
   "source": [
    "### Defining Evaluation criteria¶\n"
   ]
  },
  {
   "cell_type": "code",
   "execution_count": 44,
   "metadata": {},
   "outputs": [
    {
     "data": {
      "text/html": [
       "<div>\n",
       "<style scoped>\n",
       "    .dataframe tbody tr th:only-of-type {\n",
       "        vertical-align: middle;\n",
       "    }\n",
       "\n",
       "    .dataframe tbody tr th {\n",
       "        vertical-align: top;\n",
       "    }\n",
       "\n",
       "    .dataframe thead th {\n",
       "        text-align: right;\n",
       "    }\n",
       "</style>\n",
       "<table border=\"1\" class=\"dataframe\">\n",
       "  <thead>\n",
       "    <tr style=\"text-align: right;\">\n",
       "      <th></th>\n",
       "      <th>Model</th>\n",
       "      <th>accuracy score</th>\n",
       "      <th>Precision</th>\n",
       "      <th>Recall</th>\n",
       "      <th>f1_score</th>\n",
       "    </tr>\n",
       "  </thead>\n",
       "  <tbody>\n",
       "  </tbody>\n",
       "</table>\n",
       "</div>"
      ],
      "text/plain": [
       "Empty DataFrame\n",
       "Columns: [Model, accuracy score,  Precision, Recall, f1_score]\n",
       "Index: []"
      ]
     },
     "execution_count": 44,
     "metadata": {},
     "output_type": "execute_result"
    }
   ],
   "source": [
    "columns = ['Model','accuracy score', ' Precision','Recall','f1_score']\n",
    "evaluation_df = pd.DataFrame(columns=columns)\n",
    "evaluation_df"
   ]
  },
  {
   "cell_type": "markdown",
   "metadata": {},
   "source": [
    "### Printing functions\n",
    "- print_results\n",
    "- Plot_confusion_matrix\n",
    "- Plot_roc_curve\n"
   ]
  },
  {
   "cell_type": "code",
   "execution_count": 45,
   "metadata": {},
   "outputs": [],
   "source": [
    "import sklearn.metrics as metrics\n",
    "\n",
    "def print_results(model_name, y_test, y_pred, pred_prob=None):\n",
    "    print(model_name)\n",
    "    print('--------------------------------------------------------------------------')\n",
    " \n",
    "    precision_score = metrics.precision_score(y_test, y_pred)\n",
    "    recall_score = metrics.recall_score(y_test, y_pred)\n",
    "    \n",
    "    accuracy_score  = metrics.accuracy_score(y_test,y_pred)\n",
    "    print(f'accuracy score :{accuracy_score}') \n",
    "\n",
    "    f1_score = metrics.f1_score(y_test,y_pred)\n",
    "    \n",
    "    classification_report = metrics.classification_report(y_test,y_pred)\n",
    "    print(classification_report)\n",
    "    \n",
    "#   save scores into dataframe for comparison\n",
    "    evaluation_df.loc[len(evaluation_df.index)] = [model_name,accuracy_score,precision_score,recall_score, f1_score]\n",
    "    \n",
    "    Plot_confusion_matrix(y_test,y_pred,model_name)\n",
    "    \n",
    "    if pred_prob is not None:\n",
    "        Plot_roc_curve(y_test,pred_prob,model_name,accuracy_score)"
   ]
  },
  {
   "cell_type": "code",
   "execution_count": 46,
   "metadata": {},
   "outputs": [],
   "source": [
    "# Created a common function to plot confusion matrix\n",
    "def Plot_confusion_matrix(y, pred, model_name):\n",
    "    cm = metrics.confusion_matrix(y, pred)\n",
    "    plt.clf()\n",
    "    plt.imshow(cm, cmap=plt.cm.Accent)\n",
    "    categoryNames = ['Non-Fraudulent','Fraudulent']\n",
    "    plt.title(f'Confusion Matrix - {model_name}')\n",
    "    plt.ylabel('True labels')\n",
    "    plt.xlabel('Predicted labels')\n",
    "    ticks = np.arange(len(categoryNames))\n",
    "    plt.xticks(ticks, categoryNames, rotation=45)\n",
    "    plt.yticks(ticks, categoryNames)\n",
    "    s = [['TN','FP'], ['FN', 'TP']]\n",
    "\n",
    "    for i in range(2):\n",
    "        for j in range(2):\n",
    "            plt.text(j,i, str(s[i][j])+\" = \"+str(cm[i][j]),fontsize=12)\n",
    "    plt.show()"
   ]
  },
  {
   "cell_type": "code",
   "execution_count": 47,
   "metadata": {},
   "outputs": [],
   "source": [
    "def Plot_roc_curve(y, y_prob, model_name, score):\n",
    "    plt.title(f'ROC Curve - {model_name}')\n",
    "    fpr, tpr, thresholds = metrics.roc_curve(y, y_prob)\n",
    "    plt.plot(fpr,tpr,label=\"Test, auc=\"+str(score))\n",
    "    plt.legend(loc=4)\n",
    "    plt.show()"
   ]
  },
  {
   "cell_type": "markdown",
   "metadata": {},
   "source": [
    "# Models Building"
   ]
  },
  {
   "cell_type": "markdown",
   "metadata": {},
   "source": [
    "### Logistic Regression¶\n"
   ]
  },
  {
   "cell_type": "code",
   "execution_count": 48,
   "metadata": {},
   "outputs": [
    {
     "name": "stdout",
     "output_type": "stream",
     "text": [
      "Logistic Regression\n",
      "--------------------------------------------------------------------------\n",
      "accuracy score :0.9473832301631964\n",
      "              precision    recall  f1-score   support\n",
      "\n",
      "           0       0.92      0.98      0.95      3554\n",
      "           1       0.97      0.92      0.95      3554\n",
      "\n",
      "    accuracy                           0.95      7108\n",
      "   macro avg       0.95      0.95      0.95      7108\n",
      "weighted avg       0.95      0.95      0.95      7108\n",
      "\n"
     ]
    },
    {
     "data": {
      "image/png": "[encoded data removed]",
      "text/plain": [
       "<Figure size 432x288 with 1 Axes>"
      ]
     },
     "metadata": {
      "needs_background": "light"
     },
     "output_type": "display_data"
    },
    {
     "data": {
      "image/png": "[encoded data removed]",
      "text/plain": [
       "<Figure size 432x288 with 1 Axes>"
      ]
     },
     "metadata": {
      "needs_background": "light"
     },
     "output_type": "display_data"
    }
   ],
   "source": [
    "lr_model = LogisticRegression(max_iter=200,random_state=12)\n",
    "lr_model.fit(x_train,y_train)\n",
    "pred1 = lr_model.predict(x_test)\n",
    "prob1 = lr_model.predict_proba(x_test)\n",
    "print_results(\"Logistic Regression\", y_test, pred1,prob1[:,-1])"
   ]
  },
  {
   "cell_type": "markdown",
   "metadata": {},
   "source": [
    "### DecisionTreeClassifier"
   ]
  },
  {
   "cell_type": "code",
   "execution_count": 49,
   "metadata": {},
   "outputs": [
    {
     "name": "stdout",
     "output_type": "stream",
     "text": [
      "Accuracy score of the Decision Tree model is 0.9373944850872257\n",
      "F1 score of the Decision Tree model is 0.9340252038547072\n"
     ]
    }
   ],
   "source": [
    "DT = DecisionTreeClassifier(max_depth = 4, criterion = 'entropy')\n",
    "DT.fit(x_train, y_train)\n",
    "dt_yhat = DT.predict(x_test)\n",
    "\n",
    "print('Accuracy score of the Decision Tree model is {}'.format(accuracy_score(y_test, dt_yhat)))\n",
    "print('F1 score of the Decision Tree model is {}'.format(f1_score(y_test, dt_yhat)))\n"
   ]
  },
  {
   "cell_type": "code",
   "execution_count": 50,
   "metadata": {},
   "outputs": [
    {
     "name": "stdout",
     "output_type": "stream",
     "text": [
      "DecisionTree\n",
      "--------------------------------------------------------------------------\n",
      "accuracy score :0.9373944850872257\n",
      "              precision    recall  f1-score   support\n",
      "\n",
      "           0       0.90      0.99      0.94      3554\n",
      "           1       0.99      0.89      0.93      3554\n",
      "\n",
      "    accuracy                           0.94      7108\n",
      "   macro avg       0.94      0.94      0.94      7108\n",
      "weighted avg       0.94      0.94      0.94      7108\n",
      "\n"
     ]
    },
    {
     "data": {
      "image/png": "[encoded data removed]",
      "text/plain": [
       "<Figure size 432x288 with 1 Axes>"
      ]
     },
     "metadata": {
      "needs_background": "light"
     },
     "output_type": "display_data"
    },
    {
     "data": {
      "image/png": "[encoded data removed]",
      "text/plain": [
       "<Figure size 432x288 with 1 Axes>"
      ]
     },
     "metadata": {
      "needs_background": "light"
     },
     "output_type": "display_data"
    }
   ],
   "source": [
    "prob1 = DT.predict_proba(x_test)\n",
    "print_results(\"DecisionTree\", y_test, dt_yhat,prob1[:,-1])"
   ]
  },
  {
   "cell_type": "markdown",
   "metadata": {},
   "source": [
    "### XGBClassifier\n"
   ]
  },
  {
   "cell_type": "code",
   "execution_count": 51,
   "metadata": {},
   "outputs": [
    {
     "name": "stdout",
     "output_type": "stream",
     "text": [
      "[12:38:45] WARNING: D:\\bld\\xgboost-split_1637426510059\\work\\src\\learner.cc:1115: Starting in XGBoost 1.3.0, the default evaluation metric used with the objective 'binary:logistic' was changed from 'error' to 'logloss'. Explicitly set eval_metric if you'd like to restore the old behavior.\n"
     ]
    }
   ],
   "source": [
    "xgb = XGBClassifier(max_depth = 4)\n",
    "xgb.fit(x_train, y_train)\n",
    "xgb_yhat = xgb.predict(x_test)"
   ]
  },
  {
   "cell_type": "code",
   "execution_count": 52,
   "metadata": {},
   "outputs": [
    {
     "name": "stdout",
     "output_type": "stream",
     "text": [
      "Accuracy score of the XGBoost model is 0.9991558806978053\n",
      "F1 score of the XGBoost model is 0.9991565926342423\n"
     ]
    },
    {
     "data": {
      "text/plain": [
       "array([[3548,    6],\n",
       "       [   0, 3554]], dtype=int64)"
      ]
     },
     "execution_count": 52,
     "metadata": {},
     "output_type": "execute_result"
    }
   ],
   "source": [
    "print('Accuracy score of the XGBoost model is {}'.format(accuracy_score(y_test, xgb_yhat)))\n",
    "print('F1 score of the XGBoost model is {}'.format(f1_score(y_test, xgb_yhat)))\n",
    "confusion_matrix(y_test, xgb_yhat, labels = [0, 1])"
   ]
  },
  {
   "cell_type": "code",
   "execution_count": 53,
   "metadata": {},
   "outputs": [
    {
     "name": "stdout",
     "output_type": "stream",
     "text": [
      "XGBClassifier\n",
      "--------------------------------------------------------------------------\n",
      "accuracy score :0.9991558806978053\n",
      "              precision    recall  f1-score   support\n",
      "\n",
      "           0       1.00      1.00      1.00      3554\n",
      "           1       1.00      1.00      1.00      3554\n",
      "\n",
      "    accuracy                           1.00      7108\n",
      "   macro avg       1.00      1.00      1.00      7108\n",
      "weighted avg       1.00      1.00      1.00      7108\n",
      "\n"
     ]
    },
    {
     "data": {
      "image/png": "[encoded data removed]",
      "text/plain": [
       "<Figure size 432x288 with 1 Axes>"
      ]
     },
     "metadata": {
      "needs_background": "light"
     },
     "output_type": "display_data"
    },
    {
     "data": {
      "image/png": "[encoded data removed]",
      "text/plain": [
       "<Figure size 432x288 with 1 Axes>"
      ]
     },
     "metadata": {
      "needs_background": "light"
     },
     "output_type": "display_data"
    }
   ],
   "source": [
    "prob1 = xgb.predict_proba(x_test)\n",
    "print_results(\"XGBClassifier\", y_test, xgb_yhat,prob1[:,-1])"
   ]
  },
  {
   "cell_type": "markdown",
   "metadata": {},
   "source": [
    "### Bagging Classifier¶\n"
   ]
  },
  {
   "cell_type": "code",
   "execution_count": 54,
   "metadata": {},
   "outputs": [
    {
     "name": "stdout",
     "output_type": "stream",
     "text": [
      "Bagging Classifier\n",
      "--------------------------------------------------------------------------\n",
      "accuracy score :0.9991558806978053\n",
      "              precision    recall  f1-score   support\n",
      "\n",
      "           0       1.00      1.00      1.00      3554\n",
      "           1       1.00      1.00      1.00      3554\n",
      "\n",
      "    accuracy                           1.00      7108\n",
      "   macro avg       1.00      1.00      1.00      7108\n",
      "weighted avg       1.00      1.00      1.00      7108\n",
      "\n"
     ]
    },
    {
     "data": {
      "image/png": "[encoded data removed]",
      "text/plain": [
       "<Figure size 432x288 with 1 Axes>"
      ]
     },
     "metadata": {
      "needs_background": "light"
     },
     "output_type": "display_data"
    }
   ],
   "source": [
    "from sklearn.ensemble import BaggingClassifier, GradientBoostingClassifier, AdaBoostClassifier, RandomForestClassifier\n",
    "from sklearn.tree import DecisionTreeClassifier\n",
    "\n",
    "bcf_model = BaggingClassifier(DecisionTreeClassifier(),\n",
    "                              n_estimators=200,\n",
    "                              max_samples=0.8,\n",
    "                              max_features=0.8,\n",
    "                              oob_score=True,\n",
    "                              random_state=12)\n",
    "bcf_model.fit(x_train,y_train)\n",
    "pred2 = bcf_model.predict(x_test)\n",
    "print_results(\"Bagging Classifier\", y_test, pred2)"
   ]
  },
  {
   "cell_type": "code",
   "execution_count": 55,
   "metadata": {},
   "outputs": [
    {
     "data": {
      "text/html": [
       "<div>\n",
       "<style scoped>\n",
       "    .dataframe tbody tr th:only-of-type {\n",
       "        vertical-align: middle;\n",
       "    }\n",
       "\n",
       "    .dataframe tbody tr th {\n",
       "        vertical-align: top;\n",
       "    }\n",
       "\n",
       "    .dataframe thead th {\n",
       "        text-align: right;\n",
       "    }\n",
       "</style>\n",
       "<table border=\"1\" class=\"dataframe\">\n",
       "  <thead>\n",
       "    <tr style=\"text-align: right;\">\n",
       "      <th></th>\n",
       "      <th>Model</th>\n",
       "      <th>accuracy score</th>\n",
       "      <th>Precision</th>\n",
       "      <th>Recall</th>\n",
       "      <th>f1_score</th>\n",
       "    </tr>\n",
       "  </thead>\n",
       "  <tbody>\n",
       "    <tr>\n",
       "      <th>0</th>\n",
       "      <td>Logistic Regression</td>\n",
       "      <td>0.947383</td>\n",
       "      <td>0.974344</td>\n",
       "      <td>0.918965</td>\n",
       "      <td>0.945844</td>\n",
       "    </tr>\n",
       "    <tr>\n",
       "      <th>1</th>\n",
       "      <td>DecisionTree</td>\n",
       "      <td>0.937394</td>\n",
       "      <td>0.987151</td>\n",
       "      <td>0.886325</td>\n",
       "      <td>0.934025</td>\n",
       "    </tr>\n",
       "    <tr>\n",
       "      <th>2</th>\n",
       "      <td>XGBClassifier</td>\n",
       "      <td>0.999156</td>\n",
       "      <td>0.998315</td>\n",
       "      <td>1.000000</td>\n",
       "      <td>0.999157</td>\n",
       "    </tr>\n",
       "    <tr>\n",
       "      <th>3</th>\n",
       "      <td>Bagging Classifier</td>\n",
       "      <td>0.999156</td>\n",
       "      <td>0.998315</td>\n",
       "      <td>1.000000</td>\n",
       "      <td>0.999157</td>\n",
       "    </tr>\n",
       "  </tbody>\n",
       "</table>\n",
       "</div>"
      ],
      "text/plain": [
       "                 Model  accuracy score   Precision    Recall  f1_score\n",
       "0  Logistic Regression        0.947383    0.974344  0.918965  0.945844\n",
       "1         DecisionTree        0.937394    0.987151  0.886325  0.934025\n",
       "2        XGBClassifier        0.999156    0.998315  1.000000  0.999157\n",
       "3   Bagging Classifier        0.999156    0.998315  1.000000  0.999157"
      ]
     },
     "execution_count": 55,
     "metadata": {},
     "output_type": "execute_result"
    }
   ],
   "source": [
    "evaluation_df"
   ]
  },
  {
   "cell_type": "markdown",
   "metadata": {},
   "source": [
    "#### GradientBoostingClassifier"
   ]
  },
  {
   "cell_type": "code",
   "execution_count": 56,
   "metadata": {},
   "outputs": [
    {
     "name": "stdout",
     "output_type": "stream",
     "text": [
      "Gradient Boosting Classifier\n",
      "--------------------------------------------------------------------------\n",
      "accuracy score :0.990151941474395\n",
      "              precision    recall  f1-score   support\n",
      "\n",
      "           0       0.99      0.99      0.99      3554\n",
      "           1       0.99      0.99      0.99      3554\n",
      "\n",
      "    accuracy                           0.99      7108\n",
      "   macro avg       0.99      0.99      0.99      7108\n",
      "weighted avg       0.99      0.99      0.99      7108\n",
      "\n"
     ]
    },
    {
     "data": {
      "image/png": "[encoded data removed]",
      "text/plain": [
       "<Figure size 432x288 with 1 Axes>"
      ]
     },
     "metadata": {
      "needs_background": "light"
     },
     "output_type": "display_data"
    }
   ],
   "source": [
    "from sklearn.ensemble import GradientBoostingClassifier\n",
    "\n",
    "gbc_model = GradientBoostingClassifier()\n",
    "gbc_model.fit(x_train,y_train)\n",
    "pred = gbc_model.predict(x_test)\n",
    "pred_prob = gbc_model.predict_proba(x_test)\n",
    "print_results(\"Gradient Boosting Classifier\", y_test, pred)"
   ]
  },
  {
   "cell_type": "code",
   "execution_count": 57,
   "metadata": {},
   "outputs": [
    {
     "data": {
      "text/html": [
       "<div>\n",
       "<style scoped>\n",
       "    .dataframe tbody tr th:only-of-type {\n",
       "        vertical-align: middle;\n",
       "    }\n",
       "\n",
       "    .dataframe tbody tr th {\n",
       "        vertical-align: top;\n",
       "    }\n",
       "\n",
       "    .dataframe thead th {\n",
       "        text-align: right;\n",
       "    }\n",
       "</style>\n",
       "<table border=\"1\" class=\"dataframe\">\n",
       "  <thead>\n",
       "    <tr style=\"text-align: right;\">\n",
       "      <th></th>\n",
       "      <th>Model</th>\n",
       "      <th>accuracy score</th>\n",
       "      <th>Precision</th>\n",
       "      <th>Recall</th>\n",
       "      <th>f1_score</th>\n",
       "    </tr>\n",
       "  </thead>\n",
       "  <tbody>\n",
       "    <tr>\n",
       "      <th>0</th>\n",
       "      <td>Logistic Regression</td>\n",
       "      <td>0.947383</td>\n",
       "      <td>0.974344</td>\n",
       "      <td>0.918965</td>\n",
       "      <td>0.945844</td>\n",
       "    </tr>\n",
       "    <tr>\n",
       "      <th>1</th>\n",
       "      <td>DecisionTree</td>\n",
       "      <td>0.937394</td>\n",
       "      <td>0.987151</td>\n",
       "      <td>0.886325</td>\n",
       "      <td>0.934025</td>\n",
       "    </tr>\n",
       "    <tr>\n",
       "      <th>2</th>\n",
       "      <td>XGBClassifier</td>\n",
       "      <td>0.999156</td>\n",
       "      <td>0.998315</td>\n",
       "      <td>1.000000</td>\n",
       "      <td>0.999157</td>\n",
       "    </tr>\n",
       "    <tr>\n",
       "      <th>3</th>\n",
       "      <td>Bagging Classifier</td>\n",
       "      <td>0.999156</td>\n",
       "      <td>0.998315</td>\n",
       "      <td>1.000000</td>\n",
       "      <td>0.999157</td>\n",
       "    </tr>\n",
       "    <tr>\n",
       "      <th>4</th>\n",
       "      <td>Gradient Boosting Classifier</td>\n",
       "      <td>0.990152</td>\n",
       "      <td>0.990428</td>\n",
       "      <td>0.989871</td>\n",
       "      <td>0.990149</td>\n",
       "    </tr>\n",
       "  </tbody>\n",
       "</table>\n",
       "</div>"
      ],
      "text/plain": [
       "                          Model  accuracy score   Precision    Recall  \\\n",
       "0           Logistic Regression        0.947383    0.974344  0.918965   \n",
       "1                  DecisionTree        0.937394    0.987151  0.886325   \n",
       "2                 XGBClassifier        0.999156    0.998315  1.000000   \n",
       "3            Bagging Classifier        0.999156    0.998315  1.000000   \n",
       "4  Gradient Boosting Classifier        0.990152    0.990428  0.989871   \n",
       "\n",
       "   f1_score  \n",
       "0  0.945844  \n",
       "1  0.934025  \n",
       "2  0.999157  \n",
       "3  0.999157  \n",
       "4  0.990149  "
      ]
     },
     "execution_count": 57,
     "metadata": {},
     "output_type": "execute_result"
    }
   ],
   "source": [
    "evaluation_df"
   ]
  },
  {
   "cell_type": "markdown",
   "metadata": {},
   "source": [
    "### ANN model"
   ]
  },
  {
   "cell_type": "code",
   "execution_count": 58,
   "metadata": {},
   "outputs": [],
   "source": [
    "def create_model():\n",
    "    model = Sequential()\n",
    "    model.add(Dense(256,activation='relu',input_shape=[28]))\n",
    "    model.add(Dropout(0.2))\n",
    "    model.add(Dense(256,activation='relu'))\n",
    "    model.add(Dropout(0.2))\n",
    "    model.add(Dense(128,activation='relu'))\n",
    "    model.add(Dropout(0.2))\n",
    "    model.add(Dense(64,activation='relu'))\n",
    "    model.add(Dropout(0.2))\n",
    "    model.add(Dense(64,activation='relu'))\n",
    "    model.add(Dropout(0.1))\n",
    "    model.add(Dense(1,activation='sigmoid'))\n",
    "\n",
    "    model.compile( optimizer='adam',loss='binary_crossentropy', metrics=['accuracy'])\n",
    "    return model"
   ]
  },
  {
   "cell_type": "code",
   "execution_count": 59,
   "metadata": {},
   "outputs": [
    {
     "name": "stdout",
     "output_type": "stream",
     "text": [
      "Model: \"sequential_3\"\n",
      "_________________________________________________________________\n",
      " Layer (type)                Output Shape              Param #   \n",
      "=================================================================\n",
      " dense_18 (Dense)            (None, 256)               7424      \n",
      "                                                                 \n",
      " dropout_15 (Dropout)        (None, 256)               0         \n",
      "                                                                 \n",
      " dense_19 (Dense)            (None, 256)               65792     \n",
      "                                                                 \n",
      " dropout_16 (Dropout)        (None, 256)               0         \n",
      "                                                                 \n",
      " dense_20 (Dense)            (None, 128)               32896     \n",
      "                                                                 \n",
      " dropout_17 (Dropout)        (None, 128)               0         \n",
      "                                                                 \n",
      " dense_21 (Dense)            (None, 64)                8256      \n",
      "                                                                 \n",
      " dropout_18 (Dropout)        (None, 64)                0         \n",
      "                                                                 \n",
      " dense_22 (Dense)            (None, 64)                4160      \n",
      "                                                                 \n",
      " dropout_19 (Dropout)        (None, 64)                0         \n",
      "                                                                 \n",
      " dense_23 (Dense)            (None, 1)                 65        \n",
      "                                                                 \n",
      "=================================================================\n",
      "Total params: 118,593\n",
      "Trainable params: 118,593\n",
      "Non-trainable params: 0\n",
      "_________________________________________________________________\n"
     ]
    }
   ],
   "source": [
    "classifier = create_model()\n",
    "classifier.summary()"
   ]
  },
  {
   "cell_type": "code",
   "execution_count": 60,
   "metadata": {},
   "outputs": [],
   "source": [
    "early_stopping = EarlyStopping(patience = 20, min_delta = 0.001, \n",
    "                                               restore_best_weights =True )"
   ]
  },
  {
   "cell_type": "code",
   "execution_count": 61,
   "metadata": {},
   "outputs": [],
   "source": [
    "from sklearn.preprocessing import StandardScaler, LabelEncoder\n",
    "\n",
    "scaller = StandardScaler()\n",
    "\n",
    "x_train_scaled = scaller.fit_transform(x_train)\n",
    "x_test_scaled = scaller.transform(x_test)"
   ]
  },
  {
   "cell_type": "code",
   "execution_count": 62,
   "metadata": {},
   "outputs": [
    {
     "name": "stdout",
     "output_type": "stream",
     "text": [
      "Epoch 1/500\n",
      "500/500 [==============================] - 2s 3ms/step - loss: 0.1622 - accuracy: 0.9433 - val_loss: 0.1023 - val_accuracy: 0.9640\n",
      "Epoch 2/500\n",
      "500/500 [==============================] - 1s 3ms/step - loss: 0.0789 - accuracy: 0.9695 - val_loss: 0.0434 - val_accuracy: 0.9796\n",
      "Epoch 3/500\n",
      "500/500 [==============================] - 1s 3ms/step - loss: 0.0518 - accuracy: 0.9797 - val_loss: 0.0422 - val_accuracy: 0.9848\n",
      "Epoch 4/500\n",
      "500/500 [==============================] - 1s 3ms/step - loss: 0.0373 - accuracy: 0.9871 - val_loss: 0.0268 - val_accuracy: 0.9916\n",
      "Epoch 5/500\n",
      "500/500 [==============================] - 1s 3ms/step - loss: 0.0304 - accuracy: 0.9884 - val_loss: 0.0195 - val_accuracy: 0.9942\n",
      "Epoch 6/500\n",
      "500/500 [==============================] - 1s 3ms/step - loss: 0.0233 - accuracy: 0.9926 - val_loss: 0.0260 - val_accuracy: 0.9940\n",
      "Epoch 7/500\n",
      "500/500 [==============================] - 1s 3ms/step - loss: 0.0233 - accuracy: 0.9927 - val_loss: 0.0431 - val_accuracy: 0.9889\n",
      "Epoch 8/500\n",
      "500/500 [==============================] - 1s 3ms/step - loss: 0.0150 - accuracy: 0.9949 - val_loss: 0.0189 - val_accuracy: 0.9946\n",
      "Epoch 9/500\n",
      "500/500 [==============================] - 1s 3ms/step - loss: 0.0220 - accuracy: 0.9922 - val_loss: 0.0155 - val_accuracy: 0.9938\n",
      "Epoch 10/500\n",
      "500/500 [==============================] - 1s 3ms/step - loss: 0.0147 - accuracy: 0.9942 - val_loss: 0.0160 - val_accuracy: 0.9964\n",
      "Epoch 11/500\n",
      "500/500 [==============================] - 1s 3ms/step - loss: 0.0138 - accuracy: 0.9953 - val_loss: 0.0368 - val_accuracy: 0.9931\n",
      "Epoch 12/500\n",
      "500/500 [==============================] - 1s 3ms/step - loss: 0.0124 - accuracy: 0.9956 - val_loss: 0.0206 - val_accuracy: 0.9959\n",
      "Epoch 13/500\n",
      "500/500 [==============================] - 1s 3ms/step - loss: 0.0115 - accuracy: 0.9969 - val_loss: 0.0139 - val_accuracy: 0.9970\n",
      "Epoch 14/500\n",
      "500/500 [==============================] - 1s 3ms/step - loss: 0.0133 - accuracy: 0.9954 - val_loss: 0.0136 - val_accuracy: 0.9968\n",
      "Epoch 15/500\n",
      "500/500 [==============================] - 1s 3ms/step - loss: 0.0115 - accuracy: 0.9962 - val_loss: 0.0165 - val_accuracy: 0.9981\n",
      "Epoch 16/500\n",
      "500/500 [==============================] - 1s 3ms/step - loss: 0.0105 - accuracy: 0.9970 - val_loss: 0.0252 - val_accuracy: 0.9962\n",
      "Epoch 17/500\n",
      "500/500 [==============================] - 1s 3ms/step - loss: 0.0121 - accuracy: 0.9971 - val_loss: 0.0166 - val_accuracy: 0.9968\n",
      "Epoch 18/500\n",
      "500/500 [==============================] - 1s 3ms/step - loss: 0.0101 - accuracy: 0.9972 - val_loss: 0.0181 - val_accuracy: 0.9970\n",
      "Epoch 19/500\n",
      "500/500 [==============================] - 1s 3ms/step - loss: 0.0095 - accuracy: 0.9973 - val_loss: 0.0304 - val_accuracy: 0.9957\n",
      "Epoch 20/500\n",
      "500/500 [==============================] - 1s 3ms/step - loss: 0.0129 - accuracy: 0.9959 - val_loss: 0.0218 - val_accuracy: 0.9951\n",
      "Epoch 21/500\n",
      "500/500 [==============================] - 1s 3ms/step - loss: 0.0081 - accuracy: 0.9974 - val_loss: 0.0355 - val_accuracy: 0.9955\n",
      "Epoch 22/500\n",
      "500/500 [==============================] - 1s 3ms/step - loss: 0.0170 - accuracy: 0.9972 - val_loss: 0.0163 - val_accuracy: 0.9976\n",
      "Epoch 23/500\n",
      "500/500 [==============================] - 1s 3ms/step - loss: 0.0082 - accuracy: 0.9974 - val_loss: 0.0168 - val_accuracy: 0.9972\n",
      "Epoch 24/500\n",
      "500/500 [==============================] - 1s 3ms/step - loss: 0.0079 - accuracy: 0.9975 - val_loss: 0.0160 - val_accuracy: 0.9977\n",
      "Epoch 25/500\n",
      "500/500 [==============================] - 1s 3ms/step - loss: 0.0075 - accuracy: 0.9978 - val_loss: 0.0231 - val_accuracy: 0.9962\n",
      "Epoch 26/500\n",
      "500/500 [==============================] - 1s 3ms/step - loss: 0.0063 - accuracy: 0.9979 - val_loss: 0.0175 - val_accuracy: 0.9981\n",
      "Epoch 27/500\n",
      "500/500 [==============================] - 1s 3ms/step - loss: 0.0062 - accuracy: 0.9980 - val_loss: 0.0343 - val_accuracy: 0.9976\n",
      "Epoch 28/500\n",
      "500/500 [==============================] - 1s 3ms/step - loss: 0.0058 - accuracy: 0.9977 - val_loss: 0.0485 - val_accuracy: 0.9964\n",
      "Epoch 29/500\n",
      "500/500 [==============================] - 1s 3ms/step - loss: 0.0059 - accuracy: 0.9983 - val_loss: 0.0141 - val_accuracy: 0.9970\n",
      "Epoch 30/500\n",
      "500/500 [==============================] - 1s 3ms/step - loss: 0.0069 - accuracy: 0.9981 - val_loss: 0.0278 - val_accuracy: 0.9955\n",
      "Epoch 31/500\n",
      "500/500 [==============================] - 1s 3ms/step - loss: 0.0074 - accuracy: 0.9980 - val_loss: 0.0315 - val_accuracy: 0.9961\n",
      "Epoch 32/500\n",
      "500/500 [==============================] - 1s 3ms/step - loss: 0.0064 - accuracy: 0.9980 - val_loss: 0.0218 - val_accuracy: 0.9974\n",
      "Epoch 33/500\n",
      "500/500 [==============================] - 1s 3ms/step - loss: 0.0062 - accuracy: 0.9981 - val_loss: 0.0213 - val_accuracy: 0.9979\n"
     ]
    }
   ],
   "source": [
    "history  = classifier.fit(x_train_scaled,\n",
    "               y_train,\n",
    "               epochs=500,\n",
    "               validation_split=0.25,\n",
    "               callbacks=[early_stopping],\n",
    "               verbose=1)"
   ]
  },
  {
   "cell_type": "code",
   "execution_count": 63,
   "metadata": {},
   "outputs": [],
   "source": [
    "y_pred = classifier.predict(x_test_scaled)"
   ]
  },
  {
   "cell_type": "code",
   "execution_count": 65,
   "metadata": {},
   "outputs": [
    {
     "data": {
      "image/png": "[encoded data removed]",
      "text/plain": [
       "<Figure size 432x288 with 1 Axes>"
      ]
     },
     "metadata": {
      "needs_background": "light"
     },
     "output_type": "display_data"
    }
   ],
   "source": [
    "plt.plot(history.history['accuracy'])\n",
    "plt.plot(history.history['val_accuracy'])\n",
    "plt.show()\n",
    "for i in range(len(y_pred)):\n",
    "    if y_pred[i] > 0.5 :\n",
    "        y_pred[i] = 1\n",
    "    else:\n",
    "        y_pred[i] = 0"
   ]
  },
  {
   "cell_type": "code",
   "execution_count": 66,
   "metadata": {},
   "outputs": [
    {
     "name": "stdout",
     "output_type": "stream",
     "text": [
      "ANN \n",
      "--------------------------------------------------------------------------\n",
      "accuracy score :0.9957794034890265\n",
      "              precision    recall  f1-score   support\n",
      "\n",
      "           0       1.00      0.99      1.00      3554\n",
      "           1       0.99      1.00      1.00      3554\n",
      "\n",
      "    accuracy                           1.00      7108\n",
      "   macro avg       1.00      1.00      1.00      7108\n",
      "weighted avg       1.00      1.00      1.00      7108\n",
      "\n"
     ]
    },
    {
     "data": {
      "image/png": "[encoded data removed]",
      "text/plain": [
       "<Figure size 432x288 with 1 Axes>"
      ]
     },
     "metadata": {
      "needs_background": "light"
     },
     "output_type": "display_data"
    }
   ],
   "source": [
    "print_results(\"ANN \", y_test, y_pred)"
   ]
  },
  {
   "cell_type": "code",
   "execution_count": 67,
   "metadata": {},
   "outputs": [
    {
     "data": {
      "text/html": [
       "<div>\n",
       "<style scoped>\n",
       "    .dataframe tbody tr th:only-of-type {\n",
       "        vertical-align: middle;\n",
       "    }\n",
       "\n",
       "    .dataframe tbody tr th {\n",
       "        vertical-align: top;\n",
       "    }\n",
       "\n",
       "    .dataframe thead th {\n",
       "        text-align: right;\n",
       "    }\n",
       "</style>\n",
       "<table border=\"1\" class=\"dataframe\">\n",
       "  <thead>\n",
       "    <tr style=\"text-align: right;\">\n",
       "      <th></th>\n",
       "      <th>Model</th>\n",
       "      <th>accuracy score</th>\n",
       "      <th>Precision</th>\n",
       "      <th>Recall</th>\n",
       "      <th>f1_score</th>\n",
       "    </tr>\n",
       "  </thead>\n",
       "  <tbody>\n",
       "    <tr>\n",
       "      <th>0</th>\n",
       "      <td>Logistic Regression</td>\n",
       "      <td>0.947383</td>\n",
       "      <td>0.974344</td>\n",
       "      <td>0.918965</td>\n",
       "      <td>0.945844</td>\n",
       "    </tr>\n",
       "    <tr>\n",
       "      <th>1</th>\n",
       "      <td>DecisionTree</td>\n",
       "      <td>0.937394</td>\n",
       "      <td>0.987151</td>\n",
       "      <td>0.886325</td>\n",
       "      <td>0.934025</td>\n",
       "    </tr>\n",
       "    <tr>\n",
       "      <th>2</th>\n",
       "      <td>XGBClassifier</td>\n",
       "      <td>0.999156</td>\n",
       "      <td>0.998315</td>\n",
       "      <td>1.000000</td>\n",
       "      <td>0.999157</td>\n",
       "    </tr>\n",
       "    <tr>\n",
       "      <th>3</th>\n",
       "      <td>Bagging Classifier</td>\n",
       "      <td>0.999156</td>\n",
       "      <td>0.998315</td>\n",
       "      <td>1.000000</td>\n",
       "      <td>0.999157</td>\n",
       "    </tr>\n",
       "    <tr>\n",
       "      <th>4</th>\n",
       "      <td>Gradient Boosting Classifier</td>\n",
       "      <td>0.990152</td>\n",
       "      <td>0.990428</td>\n",
       "      <td>0.989871</td>\n",
       "      <td>0.990149</td>\n",
       "    </tr>\n",
       "    <tr>\n",
       "      <th>5</th>\n",
       "      <td>ANN</td>\n",
       "      <td>0.995779</td>\n",
       "      <td>0.991629</td>\n",
       "      <td>1.000000</td>\n",
       "      <td>0.995797</td>\n",
       "    </tr>\n",
       "  </tbody>\n",
       "</table>\n",
       "</div>"
      ],
      "text/plain": [
       "                          Model  accuracy score   Precision    Recall  \\\n",
       "0           Logistic Regression        0.947383    0.974344  0.918965   \n",
       "1                  DecisionTree        0.937394    0.987151  0.886325   \n",
       "2                 XGBClassifier        0.999156    0.998315  1.000000   \n",
       "3            Bagging Classifier        0.999156    0.998315  1.000000   \n",
       "4  Gradient Boosting Classifier        0.990152    0.990428  0.989871   \n",
       "5                          ANN         0.995779    0.991629  1.000000   \n",
       "\n",
       "   f1_score  \n",
       "0  0.945844  \n",
       "1  0.934025  \n",
       "2  0.999157  \n",
       "3  0.999157  \n",
       "4  0.990149  \n",
       "5  0.995797  "
      ]
     },
     "execution_count": 67,
     "metadata": {},
     "output_type": "execute_result"
    }
   ],
   "source": [
    "evaluation_df"
   ]
  },
  {
   "cell_type": "code",
   "execution_count": null,
   "metadata": {},
   "outputs": [],
   "source": []
  }
 ],
 "metadata": {
  "kernelspec": {
   "display_name": "Python 3",
   "language": "python",
   "name": "python3"
  },
  "language_info": {
   "codemirror_mode": {
    "name": "ipython",
    "version": 3
   },
   "file_extension": ".py",
   "mimetype": "text/x-python",
   "name": "python",
   "nbconvert_exporter": "python",
   "pygments_lexer": "ipython3",
   "version": "3.8.5"
  }
 },
 "nbformat": 4,
 "nbformat_minor": 4
}
